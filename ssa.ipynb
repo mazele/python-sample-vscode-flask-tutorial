{
 "cells": [
  {
   "cell_type": "code",
   "execution_count": 27,
   "metadata": {},
   "outputs": [
    {
     "name": "stdout",
     "output_type": "stream",
     "text": [
      "Looking in indexes: http://dgi-dt-lgsapp01.dev.msci.org:11000/repository/python-otw/simple\n",
      "Collecting git+http://stash-us.msciapps.com/scm/ds/msci.backtest_framework.core@0.9_pre4\n",
      "  Cloning http://stash-us.msciapps.com/scm/ds/msci.backtest_framework.core (to revision 0.9_pre4) to /tmp/pip-req-build-_hohcdnc\n",
      "  Running command git clone -q http://stash-us.msciapps.com/scm/ds/msci.backtest_framework.core /tmp/pip-req-build-_hohcdnc\n",
      "  Running command git checkout -q bd505ddd5b2aa02c91570d93333b3c70548824df\n",
      "Requirement already satisfied (use --upgrade to upgrade): msci.backtest-framework.core==0.9rc4 from git+http://stash-us.msciapps.com/scm/ds/msci.backtest_framework.core@0.9_pre4 in /opt/conda/lib/python3.6/site-packages\n",
      "Requirement already satisfied: cloudpickle in /opt/conda/lib/python3.6/site-packages (from msci.backtest-framework.core==0.9rc4) (1.6.0)\n",
      "Requirement already satisfied: dask<3.0.0,>=2.2.0 in /opt/conda/lib/python3.6/site-packages (from msci.backtest-framework.core==0.9rc4) (2.25.0)\n",
      "Requirement already satisfied: jinja2 in /opt/conda/lib/python3.6/site-packages (from msci.backtest-framework.core==0.9rc4) (2.10.1)\n",
      "Requirement already satisfied: lxml in /opt/conda/lib/python3.6/site-packages (from msci.backtest-framework.core==0.9rc4) (4.4.0)\n",
      "Requirement already satisfied: methodtools in /opt/conda/lib/python3.6/site-packages (from msci.backtest-framework.core==0.9rc4) (0.4.2)\n",
      "Requirement already satisfied: msci.bdt<0.13,>=0.12.4 in /opt/conda/lib/python3.6/site-packages (from msci.backtest-framework.core==0.9rc4) (0.12.4)\n",
      "Requirement already satisfied: msci.common<2.0.0,>=1.9.0 in /opt/conda/lib/python3.6/site-packages (from msci.backtest-framework.core==0.9rc4) (1.9.6)\n",
      "Requirement already satisfied: msci.data<2.0.0,>=1.4.0 in /opt/conda/lib/python3.6/site-packages (from msci.backtest-framework.core==0.9rc4) (1.7.1)\n",
      "Requirement already satisfied: msci.data_config<2.0.0,>=1.8.19 in /opt/conda/lib/python3.6/site-packages (from msci.backtest-framework.core==0.9rc4) (1.8.51)\n",
      "Requirement already satisfied: msci.erp>=1.7.0 in /opt/conda/lib/python3.6/site-packages (from msci.backtest-framework.core==0.9rc4) (2.0.0)\n",
      "Requirement already satisfied: msci.exposure>=0.5.1 in /opt/conda/lib/python3.6/site-packages (from msci.backtest-framework.core==0.9rc4) (0.5.1)\n",
      "Requirement already satisfied: msci.riskmetrics<2.0.0,>=1.1.0 in /opt/conda/lib/python3.6/site-packages (from msci.backtest-framework.core==0.9rc4) (1.1.2)\n",
      "Requirement already satisfied: msci.rmlws<2.0.0,>=1.2.3 in /opt/conda/lib/python3.6/site-packages (from msci.backtest-framework.core==0.9rc4) (1.2.3)\n",
      "Requirement already satisfied: netcdf4 in /opt/conda/lib/python3.6/site-packages (from msci.backtest-framework.core==0.9rc4) (1.5.4)\n",
      "Requirement already satisfied: numpy>=1.17.0 in /opt/conda/lib/python3.6/site-packages (from msci.backtest-framework.core==0.9rc4) (1.17.0)\n",
      "Requirement already satisfied: pandas>=0.25.0 in /opt/conda/lib/python3.6/site-packages (from msci.backtest-framework.core==0.9rc4) (0.25.0)\n",
      "Requirement already satisfied: pycountry in /opt/conda/lib/python3.6/site-packages (from msci.backtest-framework.core==0.9rc4) (20.7.3)\n",
      "Requirement already satisfied: tqdm in /opt/conda/lib/python3.6/site-packages (from msci.backtest-framework.core==0.9rc4) (4.32.2)\n",
      "Requirement already satisfied: xarray==0.14.1 in /opt/conda/lib/python3.6/site-packages (from msci.backtest-framework.core==0.9rc4) (0.14.1)\n",
      "Requirement already satisfied: msci.sss in /opt/conda/lib/python3.6/site-packages (from msci.backtest-framework.core==0.9rc4) (0.1.2)\n",
      "Requirement already satisfied: docstring-parser in /opt/conda/lib/python3.6/site-packages (from msci.backtest-framework.core==0.9rc4) (0.7.2)\n",
      "Requirement already satisfied: dataclasses in /opt/conda/lib/python3.6/site-packages (from msci.backtest-framework.core==0.9rc4) (0.7)\n",
      "Requirement already satisfied: pyyaml in /opt/conda/lib/python3.6/site-packages (from dask<3.0.0,>=2.2.0->msci.backtest-framework.core==0.9rc4) (5.1.2)\n",
      "Requirement already satisfied: MarkupSafe>=0.23 in /opt/conda/lib/python3.6/site-packages (from jinja2->msci.backtest-framework.core==0.9rc4) (1.1.1)\n",
      "Requirement already satisfied: wirerope>=0.4.2 in /opt/conda/lib/python3.6/site-packages (from methodtools->msci.backtest-framework.core==0.9rc4) (0.4.2)\n",
      "Requirement already satisfied: suds-jurko in /opt/conda/lib/python3.6/site-packages (from msci.bdt<0.13,>=0.12.4->msci.backtest-framework.core==0.9rc4) (0.6)\n",
      "Requirement already satisfied: kazoo in /opt/conda/lib/python3.6/site-packages (from msci.common<2.0.0,>=1.9.0->msci.backtest-framework.core==0.9rc4) (2.8.0)\n",
      "Requirement already satisfied: traitlets in /opt/conda/lib/python3.6/site-packages (from msci.common<2.0.0,>=1.9.0->msci.backtest-framework.core==0.9rc4) (4.3.2)\n",
      "Requirement already satisfied: NamedAtomicLock in /opt/conda/lib/python3.6/site-packages (from msci.common<2.0.0,>=1.9.0->msci.backtest-framework.core==0.9rc4) (1.1.3)\n",
      "Requirement already satisfied: argparse in /opt/conda/lib/python3.6/site-packages (from msci.common<2.0.0,>=1.9.0->msci.backtest-framework.core==0.9rc4) (1.4.0)\n",
      "Requirement already satisfied: pycryptodome in /opt/conda/lib/python3.6/site-packages (from msci.common<2.0.0,>=1.9.0->msci.backtest-framework.core==0.9rc4) (3.9.8)\n",
      "Requirement already satisfied: future in /opt/conda/lib/python3.6/site-packages (from msci.common<2.0.0,>=1.9.0->msci.backtest-framework.core==0.9rc4) (0.18.2)\n",
      "Requirement already satisfied: jpype1 in /opt/conda/lib/python3.6/site-packages (from msci.common<2.0.0,>=1.9.0->msci.backtest-framework.core==0.9rc4) (0.6.3)\n",
      "Requirement already satisfied: psycopg2-binary in /opt/conda/lib/python3.6/site-packages (from msci.data<2.0.0,>=1.4.0->msci.backtest-framework.core==0.9rc4) (2.8.5)\n",
      "Requirement already satisfied: fredapi in /opt/conda/lib/python3.6/site-packages (from msci.data<2.0.0,>=1.4.0->msci.backtest-framework.core==0.9rc4) (0.4.2)\n",
      "Requirement already satisfied: websocket-client in /opt/conda/lib/python3.6/site-packages (from msci.data<2.0.0,>=1.4.0->msci.backtest-framework.core==0.9rc4) (0.56.0)\n",
      "Requirement already satisfied: sqlalchemy in /opt/conda/lib/python3.6/site-packages (from msci.data<2.0.0,>=1.4.0->msci.backtest-framework.core==0.9rc4) (1.3.6)\n",
      "Requirement already satisfied: fasteners in /opt/conda/lib/python3.6/site-packages (from msci.data<2.0.0,>=1.4.0->msci.backtest-framework.core==0.9rc4) (0.14.1)\n",
      "Requirement already satisfied: jsonstat.py~=0.1 in /opt/conda/lib/python3.6/site-packages (from msci.data<2.0.0,>=1.4.0->msci.backtest-framework.core==0.9rc4) (0.1.15)\n",
      "Requirement already satisfied: yattag in /opt/conda/lib/python3.6/site-packages (from msci.data<2.0.0,>=1.4.0->msci.backtest-framework.core==0.9rc4) (1.12.2)\n",
      "Requirement already satisfied: pyarrow; python_version > \"3.4\" in /opt/conda/lib/python3.6/site-packages (from msci.data<2.0.0,>=1.4.0->msci.backtest-framework.core==0.9rc4) (0.14.1)\n",
      "Requirement already satisfied: requests in /opt/conda/lib/python3.6/site-packages (from msci.data<2.0.0,>=1.4.0->msci.backtest-framework.core==0.9rc4) (2.22.0)\n",
      "Requirement already satisfied: DatastreamDSWS==1.0.0; python_version > \"3.4\" in /opt/conda/lib/python3.6/site-packages (from msci.data<2.0.0,>=1.4.0->msci.backtest-framework.core==0.9rc4) (1.0.0)\n",
      "Requirement already satisfied: cx-Oracle in /opt/conda/lib/python3.6/site-packages (from msci.data<2.0.0,>=1.4.0->msci.backtest-framework.core==0.9rc4) (7.2.1)\n",
      "Requirement already satisfied: tables in /opt/conda/lib/python3.6/site-packages (from msci.data<2.0.0,>=1.4.0->msci.backtest-framework.core==0.9rc4) (3.4.3)\n",
      "Requirement already satisfied: pybea in /opt/conda/lib/python3.6/site-packages (from msci.data<2.0.0,>=1.4.0->msci.backtest-framework.core==0.9rc4) (0.7.0a0)\n",
      "Requirement already satisfied: datetime in /opt/conda/lib/python3.6/site-packages (from msci.data<2.0.0,>=1.4.0->msci.backtest-framework.core==0.9rc4) (4.3)\n",
      "Requirement already satisfied: h5py in /opt/conda/lib/python3.6/site-packages (from msci.data<2.0.0,>=1.4.0->msci.backtest-framework.core==0.9rc4) (2.7.1)\n",
      "Requirement already satisfied: msci.mv-logger in /opt/conda/lib/python3.6/site-packages (from msci.riskmetrics<2.0.0,>=1.1.0->msci.backtest-framework.core==0.9rc4) (1.1.8)\n",
      "Requirement already satisfied: msci.sphinx-tools in /opt/conda/lib/python3.6/site-packages (from msci.riskmetrics<2.0.0,>=1.1.0->msci.backtest-framework.core==0.9rc4) (0.0.1)\n",
      "Requirement already satisfied: sphinx in /opt/conda/lib/python3.6/site-packages (from msci.riskmetrics<2.0.0,>=1.1.0->msci.backtest-framework.core==0.9rc4) (2.1.2)\n",
      "Requirement already satisfied: sphinx-rtd-theme in /opt/conda/lib/python3.6/site-packages (from msci.riskmetrics<2.0.0,>=1.1.0->msci.backtest-framework.core==0.9rc4) (0.4.3)\n",
      "Requirement already satisfied: sphinx-argparse in /opt/conda/lib/python3.6/site-packages (from msci.riskmetrics<2.0.0,>=1.1.0->msci.backtest-framework.core==0.9rc4) (0.2.5)\n",
      "Requirement already satisfied: six in /opt/conda/lib/python3.6/site-packages (from msci.riskmetrics<2.0.0,>=1.1.0->msci.backtest-framework.core==0.9rc4) (1.12.0)\n",
      "Requirement already satisfied: python-dateutil in /opt/conda/lib/python3.6/site-packages (from msci.riskmetrics<2.0.0,>=1.1.0->msci.backtest-framework.core==0.9rc4) (2.8.0)\n",
      "Requirement already satisfied: pathlib2 in /opt/conda/lib/python3.6/site-packages (from msci.riskmetrics<2.0.0,>=1.1.0->msci.backtest-framework.core==0.9rc4) (2.3.4)\n",
      "Requirement already satisfied: cftime in /opt/conda/lib/python3.6/site-packages (from netcdf4->msci.backtest-framework.core==0.9rc4) (1.2.1)\n",
      "Requirement already satisfied: pytz>=2017.2 in /opt/conda/lib/python3.6/site-packages (from pandas>=0.25.0->msci.backtest-framework.core==0.9rc4) (2019.2)\n",
      "Requirement already satisfied: ipython_genutils in /opt/conda/lib/python3.6/site-packages (from traitlets->msci.common<2.0.0,>=1.9.0->msci.backtest-framework.core==0.9rc4) (0.2.0)\n",
      "Requirement already satisfied: decorator in /opt/conda/lib/python3.6/site-packages (from traitlets->msci.common<2.0.0,>=1.9.0->msci.backtest-framework.core==0.9rc4) (4.4.0)\n",
      "Requirement already satisfied: monotonic>=0.1 in /opt/conda/lib/python3.6/site-packages (from fasteners->msci.data<2.0.0,>=1.4.0->msci.backtest-framework.core==0.9rc4) (1.5)\n",
      "Requirement already satisfied: click~=7.0 in /opt/conda/lib/python3.6/site-packages (from jsonstat.py~=0.1->msci.data<2.0.0,>=1.4.0->msci.backtest-framework.core==0.9rc4) (7.1.2)\n",
      "Requirement already satisfied: terminaltables~=3.1 in /opt/conda/lib/python3.6/site-packages (from jsonstat.py~=0.1->msci.data<2.0.0,>=1.4.0->msci.backtest-framework.core==0.9rc4) (3.1.0)\n",
      "Requirement already satisfied: chardet<3.1.0,>=3.0.2 in /opt/conda/lib/python3.6/site-packages (from requests->msci.data<2.0.0,>=1.4.0->msci.backtest-framework.core==0.9rc4) (3.0.4)\n",
      "Requirement already satisfied: urllib3!=1.25.0,!=1.25.1,<1.26,>=1.21.1 in /opt/conda/lib/python3.6/site-packages (from requests->msci.data<2.0.0,>=1.4.0->msci.backtest-framework.core==0.9rc4) (1.25.3)\n",
      "Requirement already satisfied: certifi>=2017.4.17 in /opt/conda/lib/python3.6/site-packages (from requests->msci.data<2.0.0,>=1.4.0->msci.backtest-framework.core==0.9rc4) (2019.9.11)\n",
      "Requirement already satisfied: idna<2.9,>=2.5 in /opt/conda/lib/python3.6/site-packages (from requests->msci.data<2.0.0,>=1.4.0->msci.backtest-framework.core==0.9rc4) (2.8)\n",
      "Requirement already satisfied: numexpr>=2.5.2 in /opt/conda/lib/python3.6/site-packages (from tables->msci.data<2.0.0,>=1.4.0->msci.backtest-framework.core==0.9rc4) (2.6.9)\n",
      "Requirement already satisfied: zope.interface in /opt/conda/lib/python3.6/site-packages (from datetime->msci.data<2.0.0,>=1.4.0->msci.backtest-framework.core==0.9rc4) (5.1.0)\n",
      "Requirement already satisfied: setuptools in /opt/conda/lib/python3.6/site-packages (from sphinx->msci.riskmetrics<2.0.0,>=1.1.0->msci.backtest-framework.core==0.9rc4) (41.0.1)\n",
      "Requirement already satisfied: sphinxcontrib-serializinghtml in /opt/conda/lib/python3.6/site-packages (from sphinx->msci.riskmetrics<2.0.0,>=1.1.0->msci.backtest-framework.core==0.9rc4) (1.1.1)\n",
      "Requirement already satisfied: sphinxcontrib-jsmath in /opt/conda/lib/python3.6/site-packages (from sphinx->msci.riskmetrics<2.0.0,>=1.1.0->msci.backtest-framework.core==0.9rc4) (1.0.1)\n",
      "Requirement already satisfied: Pygments>=2.0 in /opt/conda/lib/python3.6/site-packages (from sphinx->msci.riskmetrics<2.0.0,>=1.1.0->msci.backtest-framework.core==0.9rc4) (2.4.2)\n",
      "Requirement already satisfied: imagesize in /opt/conda/lib/python3.6/site-packages (from sphinx->msci.riskmetrics<2.0.0,>=1.1.0->msci.backtest-framework.core==0.9rc4) (1.1.0)\n",
      "Requirement already satisfied: snowballstemmer>=1.1 in /opt/conda/lib/python3.6/site-packages (from sphinx->msci.riskmetrics<2.0.0,>=1.1.0->msci.backtest-framework.core==0.9rc4) (1.9.0)\n",
      "Requirement already satisfied: docutils>=0.12 in /opt/conda/lib/python3.6/site-packages (from sphinx->msci.riskmetrics<2.0.0,>=1.1.0->msci.backtest-framework.core==0.9rc4) (0.15.2)\n",
      "Requirement already satisfied: babel!=2.0,>=1.3 in /opt/conda/lib/python3.6/site-packages (from sphinx->msci.riskmetrics<2.0.0,>=1.1.0->msci.backtest-framework.core==0.9rc4) (2.7.0)\n",
      "Requirement already satisfied: sphinxcontrib-qthelp in /opt/conda/lib/python3.6/site-packages (from sphinx->msci.riskmetrics<2.0.0,>=1.1.0->msci.backtest-framework.core==0.9rc4) (1.0.2)\n",
      "Requirement already satisfied: sphinxcontrib-devhelp in /opt/conda/lib/python3.6/site-packages (from sphinx->msci.riskmetrics<2.0.0,>=1.1.0->msci.backtest-framework.core==0.9rc4) (1.0.1)\n",
      "Requirement already satisfied: packaging in /opt/conda/lib/python3.6/site-packages (from sphinx->msci.riskmetrics<2.0.0,>=1.1.0->msci.backtest-framework.core==0.9rc4) (19.2)\n",
      "Requirement already satisfied: sphinxcontrib-htmlhelp in /opt/conda/lib/python3.6/site-packages (from sphinx->msci.riskmetrics<2.0.0,>=1.1.0->msci.backtest-framework.core==0.9rc4) (1.0.2)\n",
      "Requirement already satisfied: alabaster<0.8,>=0.7 in /opt/conda/lib/python3.6/site-packages (from sphinx->msci.riskmetrics<2.0.0,>=1.1.0->msci.backtest-framework.core==0.9rc4) (0.7.12)\n",
      "Requirement already satisfied: sphinxcontrib-applehelp in /opt/conda/lib/python3.6/site-packages (from sphinx->msci.riskmetrics<2.0.0,>=1.1.0->msci.backtest-framework.core==0.9rc4) (1.0.1)\n",
      "Requirement already satisfied: pyparsing>=2.0.2 in /opt/conda/lib/python3.6/site-packages (from packaging->sphinx->msci.riskmetrics<2.0.0,>=1.1.0->msci.backtest-framework.core==0.9rc4) (2.4.2)\n",
      "Building wheels for collected packages: msci.backtest-framework.core\n",
      "  Building wheel for msci.backtest-framework.core (setup.py) ... \u001b[?25ldone\n",
      "\u001b[?25h  Created wheel for msci.backtest-framework.core: filename=msci.backtest_framework.core-0.9rc4-cp36-none-any.whl size=194436 sha256=cfcb46033edbb7a21171544e993dc3487a74ba2a76db01667dd1f3d5a5337af2\n",
      "  Stored in directory: /tmp/pip-ephem-wheel-cache-mvydhutk/wheels/f9/d1/3b/106ad3dacd848aa6c23518dc5c2ac0996e15e7671c8ba91ba0\n",
      "Successfully built msci.backtest-framework.core\n",
      "Looking in indexes: http://dgi-dt-lgsapp01.dev.msci.org:11000/repository/python-otw/simple\n",
      "Collecting git+http://stash-us.msciapps.com/scm/ds/msci.single_security_analyzer@add_workflow_dir_and_sample\n",
      "  Cloning http://stash-us.msciapps.com/scm/ds/msci.single_security_analyzer (to revision add_workflow_dir_and_sample) to /tmp/pip-req-build-0vnisxrn\n",
      "  Running command git clone -q http://stash-us.msciapps.com/scm/ds/msci.single_security_analyzer /tmp/pip-req-build-0vnisxrn\n",
      "  Running command git checkout -b add_workflow_dir_and_sample --track origin/add_workflow_dir_and_sample\n",
      "  Switched to a new branch 'add_workflow_dir_and_sample'\n",
      "  Branch 'add_workflow_dir_and_sample' set up to track remote branch 'add_workflow_dir_and_sample' from 'origin'.\n",
      "Requirement already satisfied, skipping upgrade: numpy>=1.17.0 in /opt/conda/lib/python3.6/site-packages (from msci.single-security-analyzer==0.0.1+5.gbd3c98a) (1.17.0)\n",
      "Requirement already satisfied, skipping upgrade: pandas>=0.25.0 in /opt/conda/lib/python3.6/site-packages (from msci.single-security-analyzer==0.0.1+5.gbd3c98a) (0.25.0)\n",
      "Requirement already satisfied, skipping upgrade: requests in /opt/conda/lib/python3.6/site-packages (from msci.single-security-analyzer==0.0.1+5.gbd3c98a) (2.22.0)\n",
      "Requirement already satisfied, skipping upgrade: python-dateutil>=2.6.1 in /opt/conda/lib/python3.6/site-packages (from pandas>=0.25.0->msci.single-security-analyzer==0.0.1+5.gbd3c98a) (2.8.0)\n",
      "Requirement already satisfied, skipping upgrade: pytz>=2017.2 in /opt/conda/lib/python3.6/site-packages (from pandas>=0.25.0->msci.single-security-analyzer==0.0.1+5.gbd3c98a) (2019.2)\n",
      "Requirement already satisfied, skipping upgrade: certifi>=2017.4.17 in /opt/conda/lib/python3.6/site-packages (from requests->msci.single-security-analyzer==0.0.1+5.gbd3c98a) (2019.9.11)\n",
      "Requirement already satisfied, skipping upgrade: idna<2.9,>=2.5 in /opt/conda/lib/python3.6/site-packages (from requests->msci.single-security-analyzer==0.0.1+5.gbd3c98a) (2.8)\n",
      "Requirement already satisfied, skipping upgrade: urllib3!=1.25.0,!=1.25.1,<1.26,>=1.21.1 in /opt/conda/lib/python3.6/site-packages (from requests->msci.single-security-analyzer==0.0.1+5.gbd3c98a) (1.25.3)\n",
      "Requirement already satisfied, skipping upgrade: chardet<3.1.0,>=3.0.2 in /opt/conda/lib/python3.6/site-packages (from requests->msci.single-security-analyzer==0.0.1+5.gbd3c98a) (3.0.4)\n",
      "Requirement already satisfied, skipping upgrade: six>=1.5 in /opt/conda/lib/python3.6/site-packages (from python-dateutil>=2.6.1->pandas>=0.25.0->msci.single-security-analyzer==0.0.1+5.gbd3c98a) (1.12.0)\n",
      "Building wheels for collected packages: msci.single-security-analyzer\n",
      "  Building wheel for msci.single-security-analyzer (setup.py) ... \u001b[?25ldone\n",
      "\u001b[?25h  Created wheel for msci.single-security-analyzer: filename=msci.single_security_analyzer-0.0.1+5.gbd3c98a-cp36-none-any.whl size=45466 sha256=7b9e7d6fb06aea99ab83f03bc16f69cc60d94242f0b66cf553c5276ad11ff91b\n",
      "  Stored in directory: /tmp/pip-ephem-wheel-cache-mkrarjfb/wheels/8b/ee/b2/0b771a42a0b3735d54437e411f3d51e71e025b9ebb10857aac\n",
      "Successfully built msci.single-security-analyzer\n",
      "Installing collected packages: msci.single-security-analyzer\n",
      "  Found existing installation: msci.single-security-analyzer 0.0.1+3.g8802d7a\n",
      "    Uninstalling msci.single-security-analyzer-0.0.1+3.g8802d7a:\n",
      "      Successfully uninstalled msci.single-security-analyzer-0.0.1+3.g8802d7a\n",
      "Successfully installed msci.single-security-analyzer-0.0.1+5.gbd3c98a\n"
     ]
    }
   ],
   "source": [
    "!pip install git+http://stash-us.msciapps.com/scm/ds/msci.backtest_framework.core@0.9_pre4\n",
    "#!pip install msci.sss\n",
    "!pip install --upgrade git+http://stash-us.msciapps.com/scm/ds/msci.single_security_analyzer@add_workflow_dir_and_sample"
   ]
  },
  {
   "cell_type": "code",
   "execution_count": 28,
   "metadata": {},
   "outputs": [],
   "source": [
    "import os\n",
    "os.environ['DISABLE_TQDM']='1'"
   ]
  },
  {
   "cell_type": "code",
   "execution_count": 29,
   "metadata": {},
   "outputs": [],
   "source": [
    "import logging"
   ]
  },
  {
   "cell_type": "code",
   "execution_count": 30,
   "metadata": {},
   "outputs": [],
   "source": [
    "logging.basicConfig(level=logging.WARNING)"
   ]
  },
  {
   "cell_type": "code",
   "execution_count": 31,
   "metadata": {},
   "outputs": [
    {
     "data": {
      "application/vnd.jupyter.widget-view+json": {
       "model_id": "eee3092d4b0d4b4096fc0f15d5323c59",
       "version_major": 2,
       "version_minor": 0
      },
      "text/plain": [
       "Output()"
      ]
     },
     "metadata": {},
     "output_type": "display_data"
    },
    {
     "data": {
      "application/vnd.jupyter.widget-view+json": {
       "model_id": "bd97e01389f14a488a6786470c0f2725",
       "version_major": 2,
       "version_minor": 0
      },
      "text/plain": [
       "Output()"
      ]
     },
     "metadata": {},
     "output_type": "display_data"
    },
    {
     "data": {
      "application/vnd.jupyter.widget-view+json": {
       "model_id": "caa95009c7df4801961f551c879089d6",
       "version_major": 2,
       "version_minor": 0
      },
      "text/plain": [
       "Tab(children=(Output(), Output(), Output(), Output()), _titles={'0': 'Security', '1': 'Filters', '2': 'Filter …"
      ]
     },
     "metadata": {},
     "output_type": "display_data"
    }
   ],
   "source": [
    "from msci.single_security_analyzer.workflows.security_search_service import nb"
   ]
  },
  {
   "cell_type": "code",
   "execution_count": null,
   "metadata": {},
   "outputs": [],
   "source": []
  }
 ],
 "metadata": {
  "kernelspec": {
   "display_name": "Python 3",
   "language": "python",
   "name": "python3"
  },
  "language_info": {
   "codemirror_mode": {
    "name": "ipython",
    "version": 3
   },
   "file_extension": ".py",
   "mimetype": "text/x-python",
   "name": "python",
   "nbconvert_exporter": "python",
   "pygments_lexer": "ipython3",
   "version": "3.6.7"
  }
 },
 "nbformat": 4,
 "nbformat_minor": 4
}
